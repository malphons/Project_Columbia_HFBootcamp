{
  "nbformat": 4,
  "nbformat_minor": 0,
  "metadata": {
    "colab": {
      "provenance": [],
      "include_colab_link": true
    },
    "kernelspec": {
      "name": "python3",
      "display_name": "Python 3"
    },
    "language_info": {
      "name": "python"
    }
  },
  "cells": [
    {
      "cell_type": "markdown",
      "metadata": {
        "id": "view-in-github",
        "colab_type": "text"
      },
      "source": [
        "<a href=\"https://colab.research.google.com/github/malphons/Project_Columbia_HFBootcamp/blob/main/Class_11.ipynb\" target=\"_parent\"><img src=\"https://colab.research.google.com/assets/colab-badge.svg\" alt=\"Open In Colab\"/></a>"
      ]
    },
    {
      "cell_type": "markdown",
      "metadata": {
        "id": "BJ_DdvYDQjOA"
      },
      "source": [
        "- In this lecture, we will introduce the conept of neural network and test the idea on **MNIST** dataset.\n",
        "- A very popular toyset to demonstrate convolutional neural network is the mnist dataset. The dataset and the description can be found at <a href=http://yann.lecun.com/exdb/mnist/>Yann LeCun's website</a>.\n",
        "- It is a database of handwritten digits (0-9) that has a training set of 60,000 examples, and a test set of 10,000 examples. The digits have been size-normalized and centered in a fixed-size image."
      ]
    },
    {
      "cell_type": "markdown",
      "metadata": {
        "id": "EK4ify1WQjON"
      },
      "source": [
        "### Keras\n",
        "- [Keras](https://keras.io/) is a high end deep-learning library which is designed using a similar philosophy like scikit-learn. You can choose between the most popular deep learning frameworks like Tensorflow, PyTorch and JAX.\n",
        "- In comparison, Tensorflow/PyTorch **offers lower-level functionality, which has a higher speed performance**.\n",
        "- Keras is **less flexible in implementing modifications or new designs**.\n",
        "- At this moment, Keras is the learning environment for deep learning beginners, while Tensorflow or PyTorch offers high performance."
      ]
    },
    {
      "cell_type": "code",
      "metadata": {
        "collapsed": true,
        "id": "YaLROfBWQjOB",
        "colab": {
          "base_uri": "https://localhost:8080/"
        },
        "outputId": "4a9cce38-8211-4370-eede-8a72c6a03024"
      },
      "source": [
        "# from tensorflow import keras\n",
        "import keras\n",
        "import numpy as np\n",
        "# the data, split between train and test sets\n",
        "(x_train, y_train), (x_test, y_test) = keras.datasets.mnist.load_data()"
      ],
      "execution_count": null,
      "outputs": [
        {
          "output_type": "stream",
          "name": "stdout",
          "text": [
            "Downloading data from https://storage.googleapis.com/tensorflow/tf-keras-datasets/mnist.npz\n",
            "11490434/11490434 [==============================] - 1s 0us/step\n"
          ]
        }
      ]
    },
    {
      "cell_type": "code",
      "metadata": {
        "id": "SojpDewW61W0",
        "colab": {
          "base_uri": "https://localhost:8080/"
        },
        "outputId": "78332f6b-7a74-4244-f732-67eab8d8af65"
      },
      "source": [
        "print(x_train.shape)\n",
        "print(y_train.shape)"
      ],
      "execution_count": null,
      "outputs": [
        {
          "output_type": "stream",
          "name": "stdout",
          "text": [
            "(60000, 28, 28)\n",
            "(60000,)\n"
          ]
        }
      ]
    },
    {
      "cell_type": "code",
      "metadata": {
        "id": "nXGotbpQ70u4",
        "colab": {
          "base_uri": "https://localhost:8080/"
        },
        "outputId": "5b3967df-9ab5-440b-817c-a62f3fbf3d57"
      },
      "source": [
        "np.unique(y_train, return_counts=True)"
      ],
      "execution_count": null,
      "outputs": [
        {
          "output_type": "execute_result",
          "data": {
            "text/plain": [
              "(array([0, 1, 2, 3, 4, 5, 6, 7, 8, 9], dtype=uint8),\n",
              " array([5923, 6742, 5958, 6131, 5842, 5421, 5918, 6265, 5851, 5949]))"
            ]
          },
          "metadata": {},
          "execution_count": 3
        }
      ]
    },
    {
      "cell_type": "code",
      "metadata": {
        "id": "fJ9KgW9wTPGE",
        "colab": {
          "base_uri": "https://localhost:8080/"
        },
        "outputId": "2628247e-73e5-475a-d9a3-802810de3866"
      },
      "source": [
        "y_train[:10]"
      ],
      "execution_count": null,
      "outputs": [
        {
          "output_type": "execute_result",
          "data": {
            "text/plain": [
              "array([5, 0, 4, 1, 9, 2, 1, 3, 1, 4], dtype=uint8)"
            ]
          },
          "metadata": {},
          "execution_count": 4
        }
      ]
    },
    {
      "cell_type": "code",
      "metadata": {
        "id": "PHn7XLvtlFLs",
        "colab": {
          "base_uri": "https://localhost:8080/"
        },
        "outputId": "79e2ed1d-9afc-42e6-9f5b-a3f27fb2d891"
      },
      "source": [
        "print(x_train[4])"
      ],
      "execution_count": null,
      "outputs": [
        {
          "output_type": "stream",
          "name": "stdout",
          "text": [
            "[[  0   0   0   0   0   0   0   0   0   0   0   0   0   0   0   0   0   0\n",
            "    0   0   0   0   0   0   0   0   0   0]\n",
            " [  0   0   0   0   0   0   0   0   0   0   0   0   0   0   0   0   0   0\n",
            "    0   0   0   0   0   0   0   0   0   0]\n",
            " [  0   0   0   0   0   0   0   0   0   0   0   0   0   0   0   0   0   0\n",
            "    0   0   0   0   0   0   0   0   0   0]\n",
            " [  0   0   0   0   0   0   0   0   0   0   0   0   0   0   0   0   0   0\n",
            "    0   0   0   0   0   0   0   0   0   0]\n",
            " [  0   0   0   0   0   0   0   0   0   0   0   0   0   0   0   0   0   0\n",
            "    0   0   0   0   0   0   0   0   0   0]\n",
            " [  0   0   0   0   0   0   0   0   0   0   0   0   0   0   0   0   0   0\n",
            "    0   0   0   0   0   0   0   0   0   0]\n",
            " [  0   0   0   0   0   0   0   0   0   0   0   0   0   0   0   0   0   0\n",
            "    0   0   0   0   0   0   0   0   0   0]\n",
            " [  0   0   0   0   0   0   0   0   0   0   0   0  55 148 210 253 253 113\n",
            "   87 148  55   0   0   0   0   0   0   0]\n",
            " [  0   0   0   0   0   0   0   0   0   0   0  87 232 252 253 189 210 252\n",
            "  252 253 168   0   0   0   0   0   0   0]\n",
            " [  0   0   0   0   0   0   0   0   0   4  57 242 252 190  65   5  12 182\n",
            "  252 253 116   0   0   0   0   0   0   0]\n",
            " [  0   0   0   0   0   0   0   0   0  96 252 252 183  14   0   0  92 252\n",
            "  252 225  21   0   0   0   0   0   0   0]\n",
            " [  0   0   0   0   0   0   0   0 132 253 252 146  14   0   0   0 215 252\n",
            "  252  79   0   0   0   0   0   0   0   0]\n",
            " [  0   0   0   0   0   0   0 126 253 247 176   9   0   0   8  78 245 253\n",
            "  129   0   0   0   0   0   0   0   0   0]\n",
            " [  0   0   0   0   0   0  16 232 252 176   0   0   0  36 201 252 252 169\n",
            "   11   0   0   0   0   0   0   0   0   0]\n",
            " [  0   0   0   0   0   0  22 252 252  30  22 119 197 241 253 252 251  77\n",
            "    0   0   0   0   0   0   0   0   0   0]\n",
            " [  0   0   0   0   0   0  16 231 252 253 252 252 252 226 227 252 231   0\n",
            "    0   0   0   0   0   0   0   0   0   0]\n",
            " [  0   0   0   0   0   0   0  55 235 253 217 138  42  24 192 252 143   0\n",
            "    0   0   0   0   0   0   0   0   0   0]\n",
            " [  0   0   0   0   0   0   0   0   0   0   0   0   0  62 255 253 109   0\n",
            "    0   0   0   0   0   0   0   0   0   0]\n",
            " [  0   0   0   0   0   0   0   0   0   0   0   0   0  71 253 252  21   0\n",
            "    0   0   0   0   0   0   0   0   0   0]\n",
            " [  0   0   0   0   0   0   0   0   0   0   0   0   0   0 253 252  21   0\n",
            "    0   0   0   0   0   0   0   0   0   0]\n",
            " [  0   0   0   0   0   0   0   0   0   0   0   0   0  71 253 252  21   0\n",
            "    0   0   0   0   0   0   0   0   0   0]\n",
            " [  0   0   0   0   0   0   0   0   0   0   0   0   0 106 253 252  21   0\n",
            "    0   0   0   0   0   0   0   0   0   0]\n",
            " [  0   0   0   0   0   0   0   0   0   0   0   0   0  45 255 253  21   0\n",
            "    0   0   0   0   0   0   0   0   0   0]\n",
            " [  0   0   0   0   0   0   0   0   0   0   0   0   0   0 218 252  56   0\n",
            "    0   0   0   0   0   0   0   0   0   0]\n",
            " [  0   0   0   0   0   0   0   0   0   0   0   0   0   0  96 252 189  42\n",
            "    0   0   0   0   0   0   0   0   0   0]\n",
            " [  0   0   0   0   0   0   0   0   0   0   0   0   0   0  14 184 252 170\n",
            "   11   0   0   0   0   0   0   0   0   0]\n",
            " [  0   0   0   0   0   0   0   0   0   0   0   0   0   0   0  14 147 252\n",
            "   42   0   0   0   0   0   0   0   0   0]\n",
            " [  0   0   0   0   0   0   0   0   0   0   0   0   0   0   0   0   0   0\n",
            "    0   0   0   0   0   0   0   0   0   0]]\n"
          ]
        }
      ]
    },
    {
      "cell_type": "markdown",
      "metadata": {
        "id": "bee83yge_3So"
      },
      "source": [
        "- Each image has 28x28 pixels so you can think about it as a 28x28 matrix.\n",
        "- Each cell in the matrix is a value between $[0 ,255]$. 0 means a black pixel and 255 means a white pixel.\n",
        "- The values in-between are grayscale that gives you 256 different intensities (i.e., shades of grey)"
      ]
    },
    {
      "cell_type": "code",
      "metadata": {
        "collapsed": true,
        "id": "P84S7FMeQjOB"
      },
      "source": [
        "import matplotlib.gridspec as gridspec\n",
        "import matplotlib.pyplot as plt\n",
        "# function to visualize data\n",
        "def visualize(data, n_sample=25, size=5):\n",
        "    fig = plt.figure(figsize=(10, 10))\n",
        "    num = int(n_sample**0.5)\n",
        "    gs = gridspec.GridSpec(num, num)\n",
        "    fig.subplots_adjust(wspace=0.01, hspace=0.02)\n",
        "    for i in range(num):\n",
        "        for j in range(num):\n",
        "            temp = data[(num*i + j)]\n",
        "            ax = plt.subplot(gs[i, j])\n",
        "            ax.imshow(temp, cmap=plt.cm.gray, interpolation='nearest')\n",
        "            ax.axis('off')\n",
        "    plt.show()"
      ],
      "execution_count": null,
      "outputs": []
    },
    {
      "cell_type": "code",
      "metadata": {
        "id": "1WWhcirmQjOD",
        "colab": {
          "base_uri": "https://localhost:8080/",
          "height": 807
        },
        "outputId": "b1f42b44-b363-4eac-fd65-1af06704da4d"
      },
      "source": [
        "visualize(x_train[:100])"
      ],
      "execution_count": null,
      "outputs": [
        {
          "output_type": "display_data",
          "data": {
            "text/plain": [
              "<Figure size 1000x1000 with 25 Axes>"
            ],
            "image/png": "[encoded data removed]"
          },
          "metadata": {}
        }
      ]
    },
    {
      "cell_type": "markdown",
      "metadata": {
        "id": "Bb_NCVUlQjOD"
      },
      "source": [
        "### Target Label Dummification and the Softmax Mapping\n",
        "- In order to train a multi-class neural network classifier, we set the network output to be $10$ dimensional. This is implicitly a **one-versus-the-rest** approach.\n",
        "- Each output neuron should approximate the class probability $P(class=i|X=x)$, $0\\leq i\\leq 9$.\n",
        "- For a binary classifier, the output $(P(class=0|X=x), P(class=1|X=x))$ are two probability functions in the range $[0,1]$ such that\n",
        "$P(class=0|X=x)+P(class=1|X=x)=1$.\n",
        "\n",
        "- For multiclass classification, we expect the output to be the $K$-tuple of class probabilities,\n",
        "$(P(class=0|X=x), \\cdots,P(class=K-1|X=x))$ such that $\\sum_{i=0}^{i=K-1}P(class=i|X=x)=1$.\n",
        "\n",
        "\n",
        "- This property is achieved by introducing a generalization of sigmoid function, called **softmax** mapping.\n",
        "\n",
        "- For ${\\bf x}= (x_1, x_2, x_3, \\cdots, x_K)$, **softmax(x)** is described by the algebraic formula\n",
        "\n",
        "$$({e^{x_1}\\over \\sum_i e^{x_i}}, \\cdots, {e^{x_K}\\over \\sum_i e^{x_i}}).$$"
      ]
    },
    {
      "cell_type": "markdown",
      "metadata": {
        "id": "5r99ksHEQjOC"
      },
      "source": [
        "Preprocessing\n",
        "- Scale the image pixel values to the $[0, 1]$ range as we discussed that neural network prefers small and \"constant\"(unit variance) inputs.\n",
        "- We will need to transform the integer labels to multiple-binary labels, through the procedure known as **dummification**.\n",
        "- We have made use of the concept **dummification** extensively in categorical features."
      ]
    },
    {
      "cell_type": "code",
      "metadata": {
        "id": "wdcFbCWEDlzb",
        "colab": {
          "base_uri": "https://localhost:8080/"
        },
        "outputId": "0232a6f2-83de-4867-a70e-e2af843caf56"
      },
      "source": [
        "from tensorflow import keras\n",
        "import numpy as np\n",
        "# Model / data parameters\n",
        "num_classes = 10\n",
        "\n",
        "# Scale images to the [0, 1] range\n",
        "x_train = x_train.astype(\"float32\") / 255\n",
        "x_test = x_test.astype(\"float32\") / 255\n",
        "print(\"x_train shape:\", x_train.shape)\n",
        "print(x_train.shape[0], \"train samples\")\n",
        "print(x_test.shape[0], \"test samples\")\n",
        "\n",
        "# convert class vectors to binary class matrices\n",
        "y_train = keras.utils.to_categorical(y_train, num_classes)\n",
        "print('y_train shape after dummification:', y_train.shape)\n",
        "y_test = keras.utils.to_categorical(y_test, num_classes)"
      ],
      "execution_count": null,
      "outputs": [
        {
          "output_type": "stream",
          "name": "stdout",
          "text": [
            "x_train shape: (60000, 28, 28)\n",
            "60000 train samples\n",
            "10000 test samples\n",
            "y_train shape after dummification: (60000, 10)\n"
          ]
        }
      ]
    },
    {
      "cell_type": "code",
      "metadata": {
        "id": "04ciRArHTAhN",
        "colab": {
          "base_uri": "https://localhost:8080/"
        },
        "outputId": "52f8b47f-7a6f-4b07-f6f9-5c8535898841"
      },
      "source": [
        "y_train[0]"
      ],
      "execution_count": null,
      "outputs": [
        {
          "output_type": "execute_result",
          "data": {
            "text/plain": [
              "array([0., 0., 0., 0., 0., 1., 0., 0., 0., 0.], dtype=float32)"
            ]
          },
          "metadata": {},
          "execution_count": 9
        }
      ]
    },
    {
      "cell_type": "markdown",
      "metadata": {
        "id": "RQpjbjPvI9EN"
      },
      "source": [
        "### How to deal with image data"
      ]
    },
    {
      "cell_type": "markdown",
      "metadata": {
        "id": "VHrksPB82BX4"
      },
      "source": [
        "- The toy dataset we used for the logistic regression example was only 2D (200x2) but now we are dealing with 3D (60,000x28x28)\n",
        "- We will flatten the image matrix to a row vector (1x784) so input becomes (60,000x784)"
      ]
    },
    {
      "cell_type": "code",
      "metadata": {
        "id": "O3FkRTB5PDOR"
      },
      "source": [
        "images_train = x_train.reshape(-1,784)\n",
        "labels_train = y_train\n",
        "images_test = x_test.reshape(-1,784)\n",
        "labels_test = y_test"
      ],
      "execution_count": null,
      "outputs": []
    },
    {
      "cell_type": "code",
      "metadata": {
        "id": "895DJaUYPVHF",
        "colab": {
          "base_uri": "https://localhost:8080/"
        },
        "outputId": "b53db147-9985-4621-8dfe-0363353fef80"
      },
      "source": [
        "images_train.shape"
      ],
      "execution_count": null,
      "outputs": [
        {
          "output_type": "execute_result",
          "data": {
            "text/plain": [
              "(60000, 784)"
            ]
          },
          "metadata": {},
          "execution_count": 11
        }
      ]
    },
    {
      "cell_type": "code",
      "metadata": {
        "id": "LXygGecWQjON",
        "colab": {
          "base_uri": "https://localhost:8080/"
        },
        "outputId": "f37a77cd-8f65-4256-a189-593b4dece394"
      },
      "source": [
        "from keras import layers\n",
        "\n",
        "model = keras.Sequential(\n",
        "          [\n",
        "            keras.Input(shape=(784, )),\n",
        "            layers.Dense(256, activation='relu', name='layer_1'),\n",
        "            layers.Dense(128, activation='relu', name='layer_2'),\n",
        "            layers.Dense(64, activation='relu', name='layer_3'),\n",
        "            layers.Dense(10, activation='softmax', name='output'),\n",
        "          ]\n",
        "        )\n",
        "\n",
        "model.summary()"
      ],
      "execution_count": null,
      "outputs": [
        {
          "output_type": "stream",
          "name": "stdout",
          "text": [
            "Model: \"sequential\"\n",
            "_________________________________________________________________\n",
            " Layer (type)                Output Shape              Param #   \n",
            "=================================================================\n",
            " layer_1 (Dense)             (None, 256)               200960    \n",
            "                                                                 \n",
            " layer_2 (Dense)             (None, 128)               32896     \n",
            "                                                                 \n",
            " layer_3 (Dense)             (None, 64)                8256      \n",
            "                                                                 \n",
            " output (Dense)              (None, 10)                650       \n",
            "                                                                 \n",
            "=================================================================\n",
            "Total params: 242762 (948.29 KB)\n",
            "Trainable params: 242762 (948.29 KB)\n",
            "Non-trainable params: 0 (0.00 Byte)\n",
            "_________________________________________________________________\n"
          ]
        }
      ]
    },
    {
      "cell_type": "code",
      "metadata": {
        "id": "33qt9bEB0g66",
        "colab": {
          "base_uri": "https://localhost:8080/",
          "height": 533
        },
        "outputId": "2621d3a6-3816-4fbf-cef3-028ea19eb6b0"
      },
      "source": [
        "from keras.utils import plot_model\n",
        "plot_model(model, show_shapes=True, show_layer_names=True)"
      ],
      "execution_count": null,
      "outputs": [
        {
          "output_type": "execute_result",
          "data": {
            "image/png": "[encoded data removed]",
            "text/plain": [
              "<IPython.core.display.Image object>"
            ]
          },
          "metadata": {},
          "execution_count": 13
        }
      ]
    },
    {
      "cell_type": "markdown",
      "metadata": {
        "id": "subCgbpeIw4g"
      },
      "source": [
        "### Stochastic Gradient Descent"
      ]
    },
    {
      "cell_type": "markdown",
      "metadata": {
        "id": "mmmFC5ywFJ8v"
      },
      "source": [
        "- With our current approach, we are updating all the weights only once during each epoch, which causes the weights converge slowly.\n",
        "- Another reason is due to the size of image. Most cameras on the cell phone has a resolution of $4032\\times3024$ pixels and with 3 channels for color image (RGB), the input dimensions would be $4032\\times3024\\times3 = 36,578,304$. Each node connected to the input layers will add $36,578,304$ weights, which is simply not practical to use a fully connected layer with this dimensions.\n",
        "- **tensorflow** allows the algorithm to train based on a **mini-batch** fashion, thus making it **stochastic** gradient descent.\n",
        "- To make it a stochastic gradient descent algorithm, we need to re-shuffle the training samples after each epoch\n",
        " - Imagine your last few minibatch labels indeed have more noise. Then these batches will pull the final learned weights in the wrong direction. If you shuffle every time, the chances of last few batches being disproportionately noisy goes down.\n",
        "- Batch sizes are often a factor 2: $16, 32, 64, \\cdots$"
      ]
    },
    {
      "cell_type": "code",
      "metadata": {
        "id": "I5NVzJtHYbyD",
        "colab": {
          "base_uri": "https://localhost:8080/"
        },
        "outputId": "e88b674b-e57d-4451-fc50-b069e1f6631c"
      },
      "source": [
        "from tensorflow.keras.optimizers import SGD\n",
        "sgd = SGD(learning_rate=0.1)\n",
        "\n",
        "model.compile(\n",
        "    loss='categorical_crossentropy',\n",
        "    optimizer=sgd,\n",
        "    metrics=[\"accuracy\"]\n",
        ")\n",
        "\n",
        "# Fit the model\n",
        "model.fit(images_train, labels_train, epochs=10, batch_size=32)\n",
        "\n",
        "# Evaluate the model on the test set\n",
        "score = model.evaluate(images_test, labels_test)\n",
        "\n",
        "print(score)"
      ],
      "execution_count": null,
      "outputs": [
        {
          "output_type": "stream",
          "name": "stdout",
          "text": [
            "Epoch 1/10\n",
            "1875/1875 [==============================] - 11s 5ms/step - loss: 0.2584 - accuracy: 0.9208\n",
            "Epoch 2/10\n",
            "1875/1875 [==============================] - 7s 4ms/step - loss: 0.1025 - accuracy: 0.9681\n",
            "Epoch 3/10\n",
            "1875/1875 [==============================] - 8s 4ms/step - loss: 0.0685 - accuracy: 0.9783\n",
            "Epoch 4/10\n",
            "1875/1875 [==============================] - 7s 4ms/step - loss: 0.0509 - accuracy: 0.9840\n",
            "Epoch 5/10\n",
            "1875/1875 [==============================] - 8s 4ms/step - loss: 0.0378 - accuracy: 0.9876\n",
            "Epoch 6/10\n",
            "1875/1875 [==============================] - 8s 4ms/step - loss: 0.0311 - accuracy: 0.9900\n",
            "Epoch 7/10\n",
            "1875/1875 [==============================] - 7s 4ms/step - loss: 0.0226 - accuracy: 0.9927\n",
            "Epoch 8/10\n",
            "1875/1875 [==============================] - 8s 4ms/step - loss: 0.0192 - accuracy: 0.9936\n",
            "Epoch 9/10\n",
            "1875/1875 [==============================] - 7s 4ms/step - loss: 0.0131 - accuracy: 0.9957\n",
            "Epoch 10/10\n",
            "1875/1875 [==============================] - 8s 4ms/step - loss: 0.0122 - accuracy: 0.9960\n",
            "313/313 [==============================] - 1s 2ms/step - loss: 0.0934 - accuracy: 0.9767\n",
            "[0.09341015666723251, 0.9767000079154968]\n"
          ]
        }
      ]
    },
    {
      "cell_type": "markdown",
      "metadata": {
        "id": "ROryBS8-QjOM"
      },
      "source": [
        "### Which Hand-Written Digits are Mis-Classified?\n",
        "- We investigate the train set and test set mis-classifications."
      ]
    },
    {
      "cell_type": "code",
      "metadata": {
        "id": "UBHJpx-K9zB4",
        "colab": {
          "base_uri": "https://localhost:8080/",
          "height": 824
        },
        "outputId": "43cdaeff-7e7f-4ad3-c906-2bca0d1d91e6"
      },
      "source": [
        "import pandas as pd\n",
        "predict_train = np.argmax(model.predict(images_train), 1)\n",
        "incorrect_indices = predict_train != np.argmax(labels_train, 1)\n",
        "incorrect_images  = x_train[incorrect_indices]\n",
        "random_samples    = np.random.choice(incorrect_images.shape[0], 25)\n",
        "visualize(incorrect_images[random_samples])"
      ],
      "execution_count": null,
      "outputs": [
        {
          "output_type": "stream",
          "name": "stdout",
          "text": [
            "1875/1875 [==============================] - 4s 2ms/step\n"
          ]
        },
        {
          "output_type": "display_data",
          "data": {
            "text/plain": [
              "<Figure size 1000x1000 with 25 Axes>"
            ],
            "image/png": "[encoded data removed]"
          },
          "metadata": {}
        }
      ]
    }
  ]
}